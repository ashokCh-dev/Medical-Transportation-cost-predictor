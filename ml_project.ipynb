{
  "cells": [
    {
      "cell_type": "code",
      "execution_count": 1,
      "metadata": {
        "id": "NE538PS3fv7d"
      },
      "outputs": [],
      "source": [
        "import pandas as pd\n",
        "import numpy as np\n",
        "from sklearn.model_selection import train_test_split, GridSearchCV\n",
        "from sklearn.pipeline import Pipeline\n",
        "from sklearn.preprocessing import OneHotEncoder, RobustScaler, PowerTransformer, FunctionTransformer\n",
        "from sklearn.impute import SimpleImputer\n",
        "from sklearn.compose import ColumnTransformer, TransformedTargetRegressor\n",
        "from sklearn.linear_model import ElasticNet\n",
        "from sklearn.metrics import mean_squared_error, r2_score\n"
      ]
    },
    {
      "cell_type": "markdown",
      "metadata": {
        "id": "t1AwsVzKc9C2"
      },
      "source": [
        "Load and clean data"
      ]
    },
    {
      "cell_type": "code",
      "execution_count": 2,
      "metadata": {
        "colab": {
          "base_uri": "https://localhost:8080/"
        },
        "id": "JbyIqBVGc9C3",
        "outputId": "c9d669e4-d76d-45c7-c41a-b5033c9a0a98"
      },
      "outputs": [
        {
          "output_type": "stream",
          "name": "stdout",
          "text": [
            "Remaining samples after outlier removal: 4780\n"
          ]
        }
      ],
      "source": [
        "train = pd.read_csv(\"train.csv\")\n",
        "test = pd.read_csv(\"test.csv\")\n",
        "\n",
        "hospital_id_test = test[\"Hospital_Id\"]\n",
        "target = \"Transport_Cost\"\n",
        "drop_cols = [\"Hospital_Id\", \"Supplier_Name\", \"Hospital_Location\"]\n",
        "\n",
        "train = train.drop(columns=drop_cols)\n",
        "test = test.drop(columns=drop_cols)\n",
        "train = train.dropna(subset=[target])\n",
        "\n",
        "# Remove lower outliers (same quantile cutoff)\n",
        "cutoff = train[target].quantile(0.0439)\n",
        "train = train[train[target] >= cutoff]\n",
        "print(f\"Remaining samples after outlier removal: {len(train)}\")"
      ]
    },
    {
      "cell_type": "markdown",
      "metadata": {
        "id": "taGMycaGc9C4"
      },
      "source": [
        "Feature groups"
      ]
    },
    {
      "cell_type": "code",
      "execution_count": 3,
      "metadata": {
        "id": "lAOL6lv1c9C5"
      },
      "outputs": [],
      "source": [
        "num_median = ['Equipment_Height', 'Equipment_Weight', 'Supplier_Reliability']\n",
        "cat_unknown = ['Equipment_Type', 'Transport_Method', 'Rural_Hospital']\n",
        "num_nomiss = ['Equipment_Value', 'Base_Transport_Fee']\n",
        "cat_nomiss = ['Fragile_Equipment', 'Hospital_Info', 'CrossBorder_Shipping', 'Urgent_Shipping', 'Installation_Service']\n",
        "date_feats = ['Order_Placed_Date', 'Delivery_Date']"
      ]
    },
    {
      "cell_type": "markdown",
      "metadata": {
        "id": "A4CLRnHic9C5"
      },
      "source": [
        "Date feature extraction"
      ]
    },
    {
      "cell_type": "code",
      "execution_count": 4,
      "metadata": {
        "id": "q82fP0iec9C6"
      },
      "outputs": [],
      "source": [
        "def compute_date_features(df):\n",
        "    df = df.apply(pd.to_datetime, format=\"%m/%d/%y\", errors=\"coerce\")\n",
        "    order, delivery = df.iloc[:, 0], df.iloc[:, 1]\n",
        "    delivery_days = (delivery - order).dt.days\n",
        "\n",
        "    order_dow = order.dt.dayofweek.fillna(-1)\n",
        "    delivery_dow = delivery.dt.dayofweek.fillna(-1)\n",
        "    order_month = order.dt.month.fillna(0)\n",
        "    delivery_month = delivery.dt.month.fillna(0)\n",
        "\n",
        "    order_weekend = order_dow.isin([5, 6]).astype(float)\n",
        "    delivery_weekend = delivery_dow.isin([5, 6]).astype(float)\n",
        "\n",
        "    def cyc(x, period):\n",
        "        x = x.replace(-1, 0)\n",
        "        radians = 2 * np.pi * x / period\n",
        "        return np.sin(radians), np.cos(radians)\n",
        "\n",
        "    order_dow_sin, order_dow_cos = cyc(order_dow, 7)\n",
        "    order_month_sin, order_month_cos = cyc(order_month, 12)\n",
        "\n",
        "    return pd.DataFrame({\n",
        "        \"delivery_days\": delivery_days,\n",
        "        \"order_dow_sin\": order_dow_sin,\n",
        "        \"order_dow_cos\": order_dow_cos,\n",
        "        \"order_month_sin\": order_month_sin,\n",
        "        \"order_month_cos\": order_month_cos,\n",
        "        \"order_is_weekend\": order_weekend,\n",
        "        \"delivery_is_weekend\": delivery_weekend,\n",
        "        \"order_month\": order_month\n",
        "    }, index=df.index)\n"
      ]
    },
    {
      "cell_type": "markdown",
      "metadata": {
        "id": "_6BgxtCkc9C7"
      },
      "source": [
        "Preprocessor"
      ]
    },
    {
      "cell_type": "code",
      "execution_count": 5,
      "metadata": {
        "id": "ueB_r7zbc9C7"
      },
      "outputs": [],
      "source": [
        "preprocessor = ColumnTransformer([\n",
        "    ('num', Pipeline([\n",
        "        ('imp', SimpleImputer(strategy='median')),\n",
        "        ('sc', RobustScaler())\n",
        "    ]), num_median),\n",
        "\n",
        "    ('cat_unknown', Pipeline([\n",
        "        ('imp', SimpleImputer(strategy='most_frequent', add_indicator=True)),\n",
        "        ('enc', OneHotEncoder(drop='first', handle_unknown='ignore'))\n",
        "    ]), cat_unknown),\n",
        "\n",
        "    ('date', Pipeline([\n",
        "        ('feat', FunctionTransformer(compute_date_features, validate=False)),\n",
        "        ('imp', SimpleImputer(strategy='median', add_indicator=True)),\n",
        "        ('sc', RobustScaler(with_centering=False))\n",
        "    ]), date_feats),\n",
        "\n",
        "    ('num_nomiss', RobustScaler(), num_nomiss),\n",
        "    ('cat_nomiss', OneHotEncoder(drop='first', handle_unknown='ignore'), cat_nomiss)\n",
        "], remainder='drop')"
      ]
    },
    {
      "cell_type": "markdown",
      "metadata": {
        "id": "beY3WklRc9C8"
      },
      "source": [
        "Train-validation split"
      ]
    },
    {
      "cell_type": "code",
      "execution_count": 6,
      "metadata": {
        "id": "92avExsac9C8"
      },
      "outputs": [],
      "source": [
        "X = train.drop(columns=[target])\n",
        "y = train[target].replace([np.inf, -np.inf], np.nan).fillna(0)\n",
        "X_train, X_val, y_train, y_val = train_test_split(X, y, test_size=0.2, random_state=42)"
      ]
    },
    {
      "cell_type": "markdown",
      "metadata": {
        "id": "b0GBQoQYc9C9"
      },
      "source": [
        "ElasticNet pipeline"
      ]
    },
    {
      "cell_type": "code",
      "execution_count": 7,
      "metadata": {
        "colab": {
          "base_uri": "https://localhost:8080/"
        },
        "id": "0AVAJmSvc9C9",
        "outputId": "fddf99bb-9fa5-40fb-efaa-676fb4f6af0d"
      },
      "outputs": [
        {
          "output_type": "stream",
          "name": "stdout",
          "text": [
            "Fitting 5 folds for each of 20 candidates, totalling 100 fits\n",
            "Best Params: {'model__regressor__alpha': 0.0001, 'model__regressor__l1_ratio': 0.1}\n"
          ]
        }
      ],
      "source": [
        "pipe = Pipeline([\n",
        "    ('preprocessor', preprocessor),\n",
        "    ('model', TransformedTargetRegressor(\n",
        "        regressor=ElasticNet(max_iter=20000, random_state=42),\n",
        "        transformer=PowerTransformer(method='yeo-johnson')\n",
        "    ))\n",
        "])\n",
        "\n",
        "param_grid = {\n",
        "    'model__regressor__alpha': [0.0001,0.0002,0.0003,0.0007,0.0005],\n",
        "    'model__regressor__l1_ratio': [0.2, 0.5, 0.8,0.1]\n",
        "}\n",
        "\n",
        "grid = GridSearchCV(pipe, param_grid, cv=5, scoring='r2', n_jobs=-1, verbose=1)\n",
        "grid.fit(X_train, y_train)\n",
        "\n",
        "best_model = grid.best_estimator_\n",
        "print(\"Best Params:\", grid.best_params_)"
      ]
    },
    {
      "cell_type": "markdown",
      "metadata": {
        "id": "eKQYRAXBc9C-"
      },
      "source": [
        "Validation evaluation"
      ]
    },
    {
      "cell_type": "code",
      "execution_count": 8,
      "metadata": {
        "colab": {
          "base_uri": "https://localhost:8080/"
        },
        "id": "94STjabAc9C-",
        "outputId": "c069e4f2-edfc-49f4-be36-143b4359c3ef"
      },
      "outputs": [
        {
          "output_type": "stream",
          "name": "stdout",
          "text": [
            "Validation | R² = 0.0143 | RMSE = 297834.28\n"
          ]
        }
      ],
      "source": [
        "y_pred = best_model.predict(X_val)\n",
        "r2 = r2_score(y_val, y_pred)\n",
        "rmse = np.sqrt(mean_squared_error(y_val, y_pred))\n",
        "print(f\"Validation | R² = {r2:.4f} | RMSE = {rmse:.2f}\")"
      ]
    },
    {
      "cell_type": "markdown",
      "metadata": {
        "id": "aEsk7h93c9C_"
      },
      "source": [
        "Train on full data and predict test"
      ]
    },
    {
      "cell_type": "code",
      "execution_count": 9,
      "metadata": {
        "colab": {
          "base_uri": "https://localhost:8080/"
        },
        "id": "x4_nFIgIc9C_",
        "outputId": "1385ef46-ccaa-49ef-b521-d01a29358c0a"
      },
      "outputs": [
        {
          "output_type": "stream",
          "name": "stdout",
          "text": [
            "submission.csv created successfully\n"
          ]
        }
      ],
      "source": [
        "best_model.fit(X, y)\n",
        "test_pred = best_model.predict(test)\n",
        "\n",
        "pd.DataFrame({\n",
        "    \"Hospital_Id\": hospital_id_test,\n",
        "    \"Transport_Cost\": test_pred\n",
        "}).to_csv(\"submission.csv\", index=False)\n",
        "\n",
        "print(\"submission.csv created successfully\")"
      ]
    },
    {
      "cell_type": "markdown",
      "metadata": {
        "id": "S76PpsFkc9DA"
      },
      "source": [
        "Ridge Regression"
      ]
    },
    {
      "cell_type": "code",
      "execution_count": 10,
      "metadata": {
        "colab": {
          "base_uri": "https://localhost:8080/"
        },
        "id": "7YGAOXuzdhHi",
        "outputId": "fad3b6b5-6985-4a32-f652-0e64c5afb992"
      },
      "outputs": [
        {
          "output_type": "stream",
          "name": "stdout",
          "text": [
            "Fitting 5 folds for each of 7 candidates, totalling 35 fits\n",
            "Best Ridge Params: {'model__regressor__alpha': 0.001}\n",
            "Ridge | R² = 0.0143 | RMSE = 297,834\n",
            "submission_ridge.csv created successfully!\n"
          ]
        }
      ],
      "source": [
        "from sklearn.linear_model import Ridge\n",
        "from sklearn.model_selection import GridSearchCV\n",
        "from sklearn.metrics import mean_squared_error, r2_score\n",
        "import numpy as np\n",
        "import pandas as pd\n",
        "\n",
        "ridge_pipe = Pipeline([\n",
        "    ('preprocessor', preprocessor),\n",
        "    ('model', TransformedTargetRegressor(\n",
        "        regressor=Ridge(random_state=42),\n",
        "        transformer=PowerTransformer(method='yeo-johnson')\n",
        "    ))\n",
        "])\n",
        "\n",
        "ridge_param_grid = {\n",
        "    'model__regressor__alpha': [0.001, 0.01, 0.1, 0.3, 1, 3, 10]\n",
        "}\n",
        "\n",
        "ridge_grid = GridSearchCV(ridge_pipe, ridge_param_grid, cv=5, scoring='r2', n_jobs=-1, verbose=1)\n",
        "ridge_grid.fit(X_train, y_train)\n",
        "\n",
        "print(\"Best Ridge Params:\", ridge_grid.best_params_)\n",
        "y_pred = ridge_grid.best_estimator_.predict(X_val)\n",
        "\n",
        "r2 = r2_score(y_val, y_pred)\n",
        "rmse = np.sqrt(mean_squared_error(y_val, y_pred))\n",
        "print(f\"Ridge | R² = {r2:.4f} | RMSE = {rmse:,.0f}\")\n",
        "\n",
        "ridge_grid.best_estimator_.fit(X, y)\n",
        "test_pred = ridge_grid.best_estimator_.predict(test)\n",
        "pd.DataFrame({\"Hospital_Id\": hospital_id_test, \"Transport_Cost\": test_pred}).to_csv(\"submission_ridge.csv\", index=False)\n",
        "print(\"submission_ridge.csv created successfully!\")\n"
      ]
    },
    {
      "cell_type": "markdown",
      "metadata": {
        "id": "wzZ5fImlc9DB"
      },
      "source": [
        "Lasso regression"
      ]
    },
    {
      "cell_type": "code",
      "execution_count": 11,
      "metadata": {
        "colab": {
          "base_uri": "https://localhost:8080/"
        },
        "id": "kmikUfkfnRjr",
        "outputId": "1127ed0d-4394-4046-eec2-9894af1c6a8b"
      },
      "outputs": [
        {
          "output_type": "stream",
          "name": "stdout",
          "text": [
            "Fitting 5 folds for each of 5 candidates, totalling 25 fits\n",
            "Best Lasso Params: {'model__regressor__alpha': 0.0001}\n",
            "Lasso | R² = 0.0142 | RMSE = 297,837\n",
            "submission_lasso.csv created successfully!\n"
          ]
        }
      ],
      "source": [
        "from sklearn.linear_model import Lasso\n",
        "\n",
        "lasso_pipe = Pipeline([\n",
        "    ('preprocessor', preprocessor),\n",
        "    ('model', TransformedTargetRegressor(\n",
        "        regressor=Lasso(max_iter=20000, random_state=42),\n",
        "        transformer=PowerTransformer(method='yeo-johnson')\n",
        "    ))\n",
        "])\n",
        "\n",
        "lasso_param_grid = {\n",
        "    'model__regressor__alpha': [0.0001, 0.0005, 0.001, 0.005, 0.01]\n",
        "}\n",
        "\n",
        "lasso_grid = GridSearchCV(lasso_pipe, lasso_param_grid, cv=5, scoring='r2', n_jobs=-1, verbose=1)\n",
        "lasso_grid.fit(X_train, y_train)\n",
        "\n",
        "print(\"Best Lasso Params:\", lasso_grid.best_params_)\n",
        "y_pred = lasso_grid.best_estimator_.predict(X_val)\n",
        "\n",
        "r2 = r2_score(y_val, y_pred)\n",
        "rmse = np.sqrt(mean_squared_error(y_val, y_pred))\n",
        "print(f\"Lasso | R² = {r2:.4f} | RMSE = {rmse:,.0f}\")\n",
        "\n",
        "lasso_grid.best_estimator_.fit(X, y)\n",
        "test_pred = lasso_grid.best_estimator_.predict(test)\n",
        "pd.DataFrame({\"Hospital_Id\": hospital_id_test, \"Transport_Cost\": test_pred}).to_csv(\"submission_lasso.csv\", index=False)\n",
        "print(\"submission_lasso.csv created successfully!\")\n"
      ]
    },
    {
      "cell_type": "markdown",
      "metadata": {
        "id": "kefdM2EOc9DB"
      },
      "source": [
        "POlynomial regression (r^2)"
      ]
    },
    {
      "cell_type": "code",
      "execution_count": 12,
      "metadata": {
        "colab": {
          "base_uri": "https://localhost:8080/"
        },
        "id": "wqgMl5yBkl20",
        "outputId": "c80d92ab-bef9-492c-809b-96bc8545e22b"
      },
      "outputs": [
        {
          "output_type": "stream",
          "name": "stdout",
          "text": [
            "Fitting 3 folds for each of 2 candidates, totalling 6 fits\n",
            "Best Polynomial Params: {'poly__degree': 2}\n",
            "Polynomial | R² = 0.0375 | RMSE = 294,309\n",
            "submission_polynomial.csv created successfully!\n"
          ]
        }
      ],
      "source": [
        "from sklearn.preprocessing import PolynomialFeatures\n",
        "from sklearn.linear_model import LinearRegression\n",
        "\n",
        "poly_pipe = Pipeline([\n",
        "    ('preprocessor', preprocessor),\n",
        "    ('poly', PolynomialFeatures(include_bias=False)),\n",
        "    ('model', LinearRegression())\n",
        "])\n",
        "\n",
        "poly_param_grid = {\n",
        "    'poly__degree': [2, 3]\n",
        "}\n",
        "\n",
        "poly_grid = GridSearchCV(poly_pipe, poly_param_grid, cv=3, scoring='r2', n_jobs=-1, verbose=1)\n",
        "poly_grid.fit(X_train, y_train)\n",
        "\n",
        "print(\"Best Polynomial Params:\", poly_grid.best_params_)\n",
        "y_pred = poly_grid.best_estimator_.predict(X_val)\n",
        "\n",
        "r2 = r2_score(y_val, y_pred)\n",
        "rmse = np.sqrt(mean_squared_error(y_val, y_pred))\n",
        "print(f\"Polynomial | R² = {r2:.4f} | RMSE = {rmse:,.0f}\")\n",
        "\n",
        "poly_grid.best_estimator_.fit(X, y)\n",
        "test_pred = poly_grid.best_estimator_.predict(test)\n",
        "pd.DataFrame({\"Hospital_Id\": hospital_id_test, \"Transport_Cost\": test_pred}).to_csv(\"submission_polynomial.csv\", index=False)\n",
        "print(\"submission_polynomial.csv created successfully!\")\n"
      ]
    },
    {
      "cell_type": "markdown",
      "metadata": {
        "id": "_4OI9TOsc9DC"
      },
      "source": [
        "Random Forest"
      ]
    },
    {
      "cell_type": "code",
      "execution_count": 13,
      "metadata": {
        "colab": {
          "base_uri": "https://localhost:8080/"
        },
        "id": "Wew1kfs6lMfm",
        "outputId": "06d0451b-849d-4480-d759-c14be830e33d"
      },
      "outputs": [
        {
          "output_type": "stream",
          "name": "stdout",
          "text": [
            "Fitting 3 folds for each of 36 candidates, totalling 108 fits\n",
            "Best RF Params: {'model__max_depth': 8, 'model__min_samples_leaf': 1, 'model__min_samples_split': 5, 'model__n_estimators': 100}\n",
            "RandomForest | R² = 0.0632 | RMSE = 290,355\n",
            "submission_randomforest.csv created successfully!\n"
          ]
        }
      ],
      "source": [
        "from sklearn.ensemble import RandomForestRegressor\n",
        "\n",
        "rf_pipe = Pipeline([\n",
        "    ('preprocessor', preprocessor),\n",
        "    ('model', RandomForestRegressor(random_state=42, n_jobs=-1))\n",
        "])\n",
        "\n",
        "rf_param_grid = {\n",
        "    'model__n_estimators': [100, 200],\n",
        "    'model__max_depth': [8, 10, 12],\n",
        "    'model__min_samples_split': [2, 5],\n",
        "    'model__min_samples_leaf': [1, 2, 3]\n",
        "}\n",
        "\n",
        "rf_grid = GridSearchCV(rf_pipe, rf_param_grid, cv=3, scoring='r2', n_jobs=-1, verbose=1)\n",
        "rf_grid.fit(X_train, y_train)\n",
        "\n",
        "print(\"Best RF Params:\", rf_grid.best_params_)\n",
        "y_pred = rf_grid.best_estimator_.predict(X_val)\n",
        "\n",
        "r2 = r2_score(y_val, y_pred)\n",
        "rmse = np.sqrt(mean_squared_error(y_val, y_pred))\n",
        "print(f\"RandomForest | R² = {r2:.4f} | RMSE = {rmse:,.0f}\")\n",
        "\n",
        "rf_grid.best_estimator_.fit(X, y)\n",
        "test_pred = rf_grid.best_estimator_.predict(test)\n",
        "pd.DataFrame({\"Hospital_Id\": hospital_id_test, \"Transport_Cost\": test_pred}).to_csv(\"submission_randomforest.csv\", index=False)\n",
        "print(\"submission_randomforest.csv created successfully!\")\n"
      ]
    },
    {
      "cell_type": "markdown",
      "metadata": {
        "id": "PEpZ_Ourc9DC"
      },
      "source": [
        "Ada Boost"
      ]
    },
    {
      "cell_type": "code",
      "execution_count": 14,
      "metadata": {
        "colab": {
          "base_uri": "https://localhost:8080/"
        },
        "id": "JX38RKNcm8gr",
        "outputId": "27d2b3a2-0248-486b-e442-e67be6017b0e"
      },
      "outputs": [
        {
          "output_type": "stream",
          "name": "stdout",
          "text": [
            "Fitting 3 folds for each of 15 candidates, totalling 45 fits\n",
            "Best AdaBoost Params: {'model__learning_rate': 0.2, 'model__n_estimators': 100}\n",
            "AdaBoost | R² = 0.1863 | RMSE = 270,603\n",
            "submission_adaboost.csv created successfully!\n"
          ]
        }
      ],
      "source": [
        "from sklearn.ensemble import AdaBoostRegressor\n",
        "\n",
        "ada_pipe = Pipeline([\n",
        "    ('preprocessor', preprocessor),\n",
        "    ('model', AdaBoostRegressor(random_state=42))\n",
        "])\n",
        "\n",
        "ada_param_grid = {\n",
        "    'model__n_estimators': [100, 200, 300],\n",
        "    'model__learning_rate': [0.05, 0.1, 0.2, 0.4, 0.6]\n",
        "}\n",
        "\n",
        "ada_grid = GridSearchCV(ada_pipe, ada_param_grid, cv=3, scoring='r2', n_jobs=-1, verbose=1)\n",
        "ada_grid.fit(X_train, y_train)\n",
        "\n",
        "print(\"Best AdaBoost Params:\", ada_grid.best_params_)\n",
        "y_pred = ada_grid.best_estimator_.predict(X_val)\n",
        "\n",
        "r2 = r2_score(y_val, y_pred)\n",
        "rmse = np.sqrt(mean_squared_error(y_val, y_pred))\n",
        "print(f\"AdaBoost | R² = {r2:.4f} | RMSE = {rmse:,.0f}\")\n",
        "\n",
        "ada_grid.best_estimator_.fit(X, y)\n",
        "test_pred = ada_grid.best_estimator_.predict(test)\n",
        "pd.DataFrame({\"Hospital_Id\": hospital_id_test, \"Transport_Cost\": test_pred}).to_csv(\"submission_adaboost.csv\", index=False)\n",
        "print(\"submission_adaboost.csv created successfully!\")\n"
      ]
    },
    {
      "cell_type": "markdown",
      "metadata": {
        "id": "VwG-mKf2c9DD"
      },
      "source": [
        "Gradient boost"
      ]
    },
    {
      "cell_type": "code",
      "execution_count": 15,
      "metadata": {
        "colab": {
          "base_uri": "https://localhost:8080/"
        },
        "id": "al_yDvQ_m-eR",
        "outputId": "f06e69ab-54b2-4687-a611-36e835ae3118"
      },
      "outputs": [
        {
          "output_type": "stream",
          "name": "stdout",
          "text": [
            "Fitting 3 folds for each of 18 candidates, totalling 54 fits\n",
            "Best GB Params: {'model__learning_rate': 0.1, 'model__max_depth': 4, 'model__n_estimators': 100, 'model__subsample': 0.8}\n",
            "GradientBoosting | R² = 0.1064 | RMSE = 283,574\n",
            "submission_gradientboosting.csv created successfully!\n"
          ]
        }
      ],
      "source": [
        "from sklearn.ensemble import GradientBoostingRegressor\n",
        "\n",
        "gb_pipe = Pipeline([\n",
        "    ('preprocessor', preprocessor),\n",
        "    ('model', GradientBoostingRegressor(random_state=42))\n",
        "])\n",
        "\n",
        "gb_param_grid = {\n",
        "    'model__n_estimators': [100],\n",
        "    'model__learning_rate': [0.03, 0.05, 0.1],\n",
        "    'model__max_depth': [3, 4],\n",
        "    'model__subsample': [0.8, 0.9, 1.0]\n",
        "}\n",
        "\n",
        "gb_grid = GridSearchCV(gb_pipe, gb_param_grid, cv=3, scoring='r2', n_jobs=-1, verbose=1)\n",
        "gb_grid.fit(X_train, y_train)\n",
        "\n",
        "print(\"Best GB Params:\", gb_grid.best_params_)\n",
        "y_pred = gb_grid.best_estimator_.predict(X_val)\n",
        "\n",
        "r2 = r2_score(y_val, y_pred)\n",
        "rmse = np.sqrt(mean_squared_error(y_val, y_pred))\n",
        "print(f\"GradientBoosting | R² = {r2:.4f} | RMSE = {rmse:,.0f}\")\n",
        "\n",
        "gb_grid.best_estimator_.fit(X, y)\n",
        "test_pred = gb_grid.best_estimator_.predict(test)\n",
        "pd.DataFrame({\"Hospital_Id\": hospital_id_test, \"Transport_Cost\": test_pred}).to_csv(\"submission_gradientboosting.csv\", index=False)\n",
        "print(\"submission_gradientboosting.csv created successfully!\")\n"
      ]
    },
    {
      "cell_type": "code",
      "execution_count": 16,
      "metadata": {
        "colab": {
          "base_uri": "https://localhost:8080/"
        },
        "id": "4ZaugS_DnAn6",
        "outputId": "f202c37e-4af0-4a9b-c2ae-4b22f7e33bc5"
      },
      "outputs": [
        {
          "output_type": "stream",
          "name": "stdout",
          "text": [
            "Fitting 3 folds for each of 243 candidates, totalling 729 fits\n",
            "Best XGB Params: {'model__colsample_bytree': 0.8, 'model__learning_rate': 0.03, 'model__max_depth': 3, 'model__n_estimators': 100, 'model__subsample': 1.0}\n",
            "XGBoost | R² = 0.0552 | RMSE = 291,581\n",
            "submission_xgboost.csv created successfully!\n"
          ]
        }
      ],
      "source": [
        "import xgboost as xgb\n",
        "\n",
        "xgb_pipe = Pipeline([\n",
        "    ('preprocessor', preprocessor),\n",
        "    ('model', xgb.XGBRegressor(random_state=42, n_jobs=-1, verbosity=0))\n",
        "])\n",
        "\n",
        "xgb_param_grid = {\n",
        "    'model__n_estimators': [100, 200, 300],\n",
        "    'model__learning_rate': [0.03, 0.05, 0.1],\n",
        "    'model__max_depth': [3, 4, 5],\n",
        "    'model__subsample': [0.8, 0.9, 1.0],\n",
        "    'model__colsample_bytree': [0.8, 0.9, 1.0]\n",
        "}\n",
        "\n",
        "xgb_grid = GridSearchCV(xgb_pipe, xgb_param_grid, cv=3, scoring='r2', n_jobs=-1, verbose=1)\n",
        "xgb_grid.fit(X_train, y_train)\n",
        "\n",
        "print(\"Best XGB Params:\", xgb_grid.best_params_)\n",
        "y_pred = xgb_grid.best_estimator_.predict(X_val)\n",
        "\n",
        "r2 = r2_score(y_val, y_pred)\n",
        "rmse = np.sqrt(mean_squared_error(y_val, y_pred))\n",
        "print(f\"XGBoost | R² = {r2:.4f} | RMSE = {rmse:,.0f}\")\n",
        "\n",
        "xgb_grid.best_estimator_.fit(X, y)\n",
        "test_pred = xgb_grid.best_estimator_.predict(test)\n",
        "pd.DataFrame({\"Hospital_Id\": hospital_id_test, \"Transport_Cost\": test_pred}).to_csv(\"submission_xgboost.csv\", index=False)\n",
        "print(\"submission_xgboost.csv created successfully!\")\n"
      ]
    },
    {
      "cell_type": "code",
      "execution_count": 17,
      "metadata": {
        "colab": {
          "base_uri": "https://localhost:8080/"
        },
        "id": "qRwFI8W-sXLY",
        "outputId": "b4e58ce2-2ac0-4af9-9889-2657ef9b4b02"
      },
      "outputs": [
        {
          "output_type": "stream",
          "name": "stdout",
          "text": [
            "Fitting 5 folds for each of 2 candidates, totalling 10 fits\n",
            "Best Linear Params: {'model__check_inverse': True, 'model__regressor__fit_intercept': True}\n",
            "Linear Regression | R² = 0.0143 | RMSE = 297,834\n",
            " submission_linear.csv created successfully!\n"
          ]
        }
      ],
      "source": [
        "from sklearn.linear_model import LinearRegression\n",
        "from sklearn.model_selection import GridSearchCV\n",
        "from sklearn.metrics import mean_squared_error, r2_score\n",
        "import numpy as np\n",
        "import pandas as pd\n",
        "\n",
        "# Define pipeline\n",
        "linear_pipe = Pipeline([\n",
        "    ('preprocessor', preprocessor),\n",
        "    ('model', TransformedTargetRegressor(\n",
        "        regressor=LinearRegression(),\n",
        "        transformer=PowerTransformer(method='yeo-johnson')\n",
        "    ))\n",
        "])\n",
        "\n",
        "# Define parameter grid (fit_intercept = True/False just for GridSearch format)\n",
        "linear_param_grid = {\n",
        "    'model__regressor__fit_intercept': [True, False],\n",
        "    'model__check_inverse': [True]  # included to avoid pipeline warnings\n",
        "}\n",
        "\n",
        "# GridSearchCV\n",
        "linear_grid = GridSearchCV(\n",
        "    linear_pipe,\n",
        "    param_grid=linear_param_grid,\n",
        "    cv=5,\n",
        "    scoring='r2',\n",
        "    n_jobs=-1,\n",
        "    verbose=1\n",
        ")\n",
        "\n",
        "# Fit on training data\n",
        "linear_grid.fit(X_train, y_train)\n",
        "\n",
        "# Evaluate on validation\n",
        "print(\"Best Linear Params:\", linear_grid.best_params_)\n",
        "y_pred = linear_grid.best_estimator_.predict(X_val)\n",
        "\n",
        "r2 = r2_score(y_val, y_pred)\n",
        "rmse = np.sqrt(mean_squared_error(y_val, y_pred))\n",
        "print(f\"Linear Regression | R² = {r2:.4f} | RMSE = {rmse:,.0f}\")\n",
        "\n",
        "# Train on full data and predict test set\n",
        "linear_grid.best_estimator_.fit(X, y)\n",
        "test_pred = linear_grid.best_estimator_.predict(test)\n",
        "\n",
        "# Create submission\n",
        "pd.DataFrame({\n",
        "    \"Hospital_Id\": hospital_id_test,\n",
        "    \"Transport_Cost\": test_pred\n",
        "}).to_csv(\"submission_linear.csv\", index=False)\n",
        "\n",
        "print(\" submission_linear.csv created successfully!\")\n"
      ]
    }
  ],
  "metadata": {
    "colab": {
      "provenance": []
    },
    "kernelspec": {
      "display_name": "Python 3",
      "name": "python3"
    },
    "language_info": {
      "name": "python"
    }
  },
  "nbformat": 4,
  "nbformat_minor": 0
}